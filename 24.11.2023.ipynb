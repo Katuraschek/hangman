{
 "cells": [
  {
   "cell_type": "markdown",
   "source": [
    "# Apply"
   ],
   "metadata": {
    "collapsed": false
   },
   "id": "491e902ccf4710b6"
  },
  {
   "cell_type": "code",
   "execution_count": null,
   "outputs": [],
   "source": [
    "\n",
    "import numpy as np\n",
    "import pandas as pd\n"
   ],
   "metadata": {
    "collapsed": false
   },
   "id": "9792b137edeed921"
  },
  {
   "cell_type": "code",
   "execution_count": null,
   "outputs": [],
   "source": [
    "df = pd.DataFrame(\n",
    "    {'number1': [10, 20],\n",
    "     'number2': [100, 200]}\n",
    " )\n",
    "\n",
    "print(df)\n",
    "\n",
    "# create function\n",
    "def increment(x):\n",
    "    return x + 50\n",
    "\n",
    "# call the function\n",
    "increment(10)  # 10 + 50 = 60\n",
    "\n",
    "# use the function on the dataframe\n",
    "df2 = df.apply(increment)\n",
    "df2\n",
    "\n",
    "# Alternative: Using a lamda function on the dataframe\n",
    "df3 = df.apply(lambda x: x + 50)\n",
    "df3\n",
    "\n",
    "\n",
    "# Using numpy function on the dataframe\n",
    "df4 = df.apply(np.sum, axis=0)  # sum over the columns\n",
    "df4"
   ],
   "metadata": {
    "collapsed": false
   },
   "id": "920bebd0ccaaafd1"
  },
  {
   "cell_type": "markdown",
   "source": [
    "# Applymap\n",
    "apply function element-wise"
   ],
   "metadata": {
    "collapsed": false
   },
   "id": "152b092362d776a"
  },
  {
   "cell_type": "code",
   "execution_count": 27,
   "outputs": [
    {
     "name": "stderr",
     "output_type": "stream",
     "text": [
      "C:\\Users\\KaJur\\AppData\\Local\\Temp\\ipykernel_16040\\2303455656.py:9: FutureWarning: DataFrame.applymap has been deprecated. Use DataFrame.map instead.\n",
      "  df_upper = df.applymap(str.upper)\n"
     ]
    },
    {
     "data": {
      "text/plain": "     name       city\n0  THOMAS     BERLIN\n1    INGO    HAMBURG\n2    SARA  STUTTGART",
      "text/html": "<div>\n<style scoped>\n    .dataframe tbody tr th:only-of-type {\n        vertical-align: middle;\n    }\n\n    .dataframe tbody tr th {\n        vertical-align: top;\n    }\n\n    .dataframe thead th {\n        text-align: right;\n    }\n</style>\n<table border=\"1\" class=\"dataframe\">\n  <thead>\n    <tr style=\"text-align: right;\">\n      <th></th>\n      <th>name</th>\n      <th>city</th>\n    </tr>\n  </thead>\n  <tbody>\n    <tr>\n      <th>0</th>\n      <td>THOMAS</td>\n      <td>BERLIN</td>\n    </tr>\n    <tr>\n      <th>1</th>\n      <td>INGO</td>\n      <td>HAMBURG</td>\n    </tr>\n    <tr>\n      <th>2</th>\n      <td>SARA</td>\n      <td>STUTTGART</td>\n    </tr>\n  </tbody>\n</table>\n</div>"
     },
     "execution_count": 27,
     "metadata": {},
     "output_type": "execute_result"
    }
   ],
   "source": [
    "import pandas as pd\n",
    "\n",
    "# Creating a DataFrame from a dictionary\n",
    "df = pd.DataFrame({\n",
    "    'name': ['Thomas', 'Ingo', 'Sara'],\n",
    "    'city': ['berlin', 'hamBurg', 'stuttGART']\n",
    "})\n",
    "\n",
    "df_upper = df.applymap(str.upper)\n",
    "# df_upper = df.apply(str.upper)\n",
    "\n",
    "df_upper.head()"
   ],
   "metadata": {
    "collapsed": false,
    "ExecuteTime": {
     "end_time": "2023-11-24T07:58:04.902529800Z",
     "start_time": "2023-11-24T07:58:04.814032600Z"
    }
   },
   "id": "5eba24ccf665e9fd"
  },
  {
   "cell_type": "markdown",
   "source": [
    "# Group by"
   ],
   "metadata": {
    "collapsed": false
   },
   "id": "8285d7303f68874c"
  },
  {
   "cell_type": "code",
   "execution_count": 28,
   "outputs": [
    {
     "data": {
      "text/plain": "        name  age       city  score\nID                                 \n10    thomas   40     Berlin     77\n11      Ingo   40     Berlin     80\n12      Sara   40     Berlin     90\n13      Lena   30  Frankfurt     70\n14     Julia   30     Berlin     77\n15     Frank   20  Stuttgart     78\n16  Matthias   20     Aachen     77\n17       Ali   40     Aachen     90\n18      timo   40  Stuttgart     77\n19    Steffi   40  Stuttgart     77",
      "text/html": "<div>\n<style scoped>\n    .dataframe tbody tr th:only-of-type {\n        vertical-align: middle;\n    }\n\n    .dataframe tbody tr th {\n        vertical-align: top;\n    }\n\n    .dataframe thead th {\n        text-align: right;\n    }\n</style>\n<table border=\"1\" class=\"dataframe\">\n  <thead>\n    <tr style=\"text-align: right;\">\n      <th></th>\n      <th>name</th>\n      <th>age</th>\n      <th>city</th>\n      <th>score</th>\n    </tr>\n    <tr>\n      <th>ID</th>\n      <th></th>\n      <th></th>\n      <th></th>\n      <th></th>\n    </tr>\n  </thead>\n  <tbody>\n    <tr>\n      <th>10</th>\n      <td>thomas</td>\n      <td>40</td>\n      <td>Berlin</td>\n      <td>77</td>\n    </tr>\n    <tr>\n      <th>11</th>\n      <td>Ingo</td>\n      <td>40</td>\n      <td>Berlin</td>\n      <td>80</td>\n    </tr>\n    <tr>\n      <th>12</th>\n      <td>Sara</td>\n      <td>40</td>\n      <td>Berlin</td>\n      <td>90</td>\n    </tr>\n    <tr>\n      <th>13</th>\n      <td>Lena</td>\n      <td>30</td>\n      <td>Frankfurt</td>\n      <td>70</td>\n    </tr>\n    <tr>\n      <th>14</th>\n      <td>Julia</td>\n      <td>30</td>\n      <td>Berlin</td>\n      <td>77</td>\n    </tr>\n    <tr>\n      <th>15</th>\n      <td>Frank</td>\n      <td>20</td>\n      <td>Stuttgart</td>\n      <td>78</td>\n    </tr>\n    <tr>\n      <th>16</th>\n      <td>Matthias</td>\n      <td>20</td>\n      <td>Aachen</td>\n      <td>77</td>\n    </tr>\n    <tr>\n      <th>17</th>\n      <td>Ali</td>\n      <td>40</td>\n      <td>Aachen</td>\n      <td>90</td>\n    </tr>\n    <tr>\n      <th>18</th>\n      <td>timo</td>\n      <td>40</td>\n      <td>Stuttgart</td>\n      <td>77</td>\n    </tr>\n    <tr>\n      <th>19</th>\n      <td>Steffi</td>\n      <td>40</td>\n      <td>Stuttgart</td>\n      <td>77</td>\n    </tr>\n  </tbody>\n</table>\n</div>"
     },
     "execution_count": 28,
     "metadata": {},
     "output_type": "execute_result"
    }
   ],
   "source": [
    "participants = [\n",
    "    (10,'thomas',40,'Berlin',77),\n",
    "    (11,'Ingo',40,'Berlin',80),\n",
    "    (12,'Sara',40,'Berlin',90),\n",
    "    (13,'Lena',30,'Frankfurt',70),\n",
    "    (14,'Julia',30,'Berlin',77),\n",
    "    (15,'Frank',20,'Stuttgart',78),\n",
    "    (16,'Matthias',20,'Aachen',77),\n",
    "    (17,'Ali',40,'Aachen',90),\n",
    "    (18,'timo',40,'Stuttgart',77),\n",
    "    (19,'Steffi',40,'Stuttgart',77),\n",
    "]\n",
    "\n",
    "# create a Dataframe\n",
    "df = pd.DataFrame(participants, columns= ['ID', 'name', 'age', 'city', 'score'])\n",
    "df\n",
    "\n",
    "# set the index\n",
    "df.set_index('ID', inplace=True)\n",
    "df\n"
   ],
   "metadata": {
    "collapsed": false,
    "ExecuteTime": {
     "end_time": "2023-11-24T07:58:06.460354Z",
     "start_time": "2023-11-24T07:58:06.366276900Z"
    }
   },
   "id": "7adab8585f16c7fd"
  },
  {
   "cell_type": "code",
   "execution_count": 29,
   "outputs": [
    {
     "name": "stdout",
     "output_type": "stream",
     "text": [
      "('Aachen',         name  age    city  score\n",
      "ID                              \n",
      "16  Matthias   20  Aachen     77\n",
      "17       Ali   40  Aachen     90) \n",
      "\n",
      "('Berlin',       name  age    city  score\n",
      "ID                            \n",
      "10  thomas   40  Berlin     77\n",
      "11    Ingo   40  Berlin     80\n",
      "12    Sara   40  Berlin     90\n",
      "14   Julia   30  Berlin     77) \n",
      "\n",
      "('Frankfurt',     name  age       city  score\n",
      "ID                             \n",
      "13  Lena   30  Frankfurt     70) \n",
      "\n",
      "('Stuttgart',       name  age       city  score\n",
      "ID                               \n",
      "15   Frank   20  Stuttgart     78\n",
      "18    timo   40  Stuttgart     77\n",
      "19  Steffi   40  Stuttgart     77) \n"
     ]
    }
   ],
   "source": [
    "# create groups based on a column\n",
    "groups = df.groupby('city')\n",
    "groups  # <pandas.core.groupby.generic.DataFrameGroupBy object at 0x0000020B937754C0>\n",
    "\n",
    "# loop over the groups\n",
    "for group in groups:\n",
    "    print(group, '\\n')"
   ],
   "metadata": {
    "collapsed": false,
    "ExecuteTime": {
     "end_time": "2023-11-24T07:58:07.965512700Z",
     "start_time": "2023-11-24T07:58:07.726408700Z"
    }
   },
   "id": "c04401b59cc2704b"
  },
  {
   "cell_type": "code",
   "execution_count": 30,
   "outputs": [
    {
     "name": "stdout",
     "output_type": "stream",
     "text": [
      "Group Name:  Aachen\n",
      "Group Rows: \n",
      "        name  age    city  score\n",
      "ID                              \n",
      "16  Matthias   20  Aachen     77\n",
      "17       Ali   40  Aachen     90 \n",
      "\n",
      "Group Name:  Berlin\n",
      "Group Rows: \n",
      "      name  age    city  score\n",
      "ID                            \n",
      "10  thomas   40  Berlin     77\n",
      "11    Ingo   40  Berlin     80\n",
      "12    Sara   40  Berlin     90\n",
      "14   Julia   30  Berlin     77 \n",
      "\n",
      "Group Name:  Frankfurt\n",
      "Group Rows: \n",
      "    name  age       city  score\n",
      "ID                             \n",
      "13  Lena   30  Frankfurt     70 \n",
      "\n",
      "Group Name:  Stuttgart\n",
      "Group Rows: \n",
      "      name  age       city  score\n",
      "ID                               \n",
      "15   Frank   20  Stuttgart     78\n",
      "18    timo   40  Stuttgart     77\n",
      "19  Steffi   40  Stuttgart     77 \n"
     ]
    }
   ],
   "source": [
    "# loop over the groups; improved\n",
    "for group_name, rows in groups:\n",
    "    print('Group Name: ', group_name,)\n",
    "    print('Group Rows: ')\n",
    "    print(rows, '\\n')"
   ],
   "metadata": {
    "collapsed": false,
    "ExecuteTime": {
     "end_time": "2023-11-24T07:58:09.520664600Z",
     "start_time": "2023-11-24T07:58:09.490600Z"
    }
   },
   "id": "88324243d9e8069"
  },
  {
   "cell_type": "code",
   "execution_count": 31,
   "outputs": [
    {
     "data": {
      "text/plain": "           age                score               \n           sum       mean max   sum       mean max\ncity                                              \nAachen      60  30.000000  40   167  83.500000  90\nBerlin     150  37.500000  40   324  81.000000  90\nFrankfurt   30  30.000000  30    70  70.000000  70\nStuttgart  100  33.333333  40   232  77.333333  78",
      "text/html": "<div>\n<style scoped>\n    .dataframe tbody tr th:only-of-type {\n        vertical-align: middle;\n    }\n\n    .dataframe tbody tr th {\n        vertical-align: top;\n    }\n\n    .dataframe thead tr th {\n        text-align: left;\n    }\n\n    .dataframe thead tr:last-of-type th {\n        text-align: right;\n    }\n</style>\n<table border=\"1\" class=\"dataframe\">\n  <thead>\n    <tr>\n      <th></th>\n      <th colspan=\"3\" halign=\"left\">age</th>\n      <th colspan=\"3\" halign=\"left\">score</th>\n    </tr>\n    <tr>\n      <th></th>\n      <th>sum</th>\n      <th>mean</th>\n      <th>max</th>\n      <th>sum</th>\n      <th>mean</th>\n      <th>max</th>\n    </tr>\n    <tr>\n      <th>city</th>\n      <th></th>\n      <th></th>\n      <th></th>\n      <th></th>\n      <th></th>\n      <th></th>\n    </tr>\n  </thead>\n  <tbody>\n    <tr>\n      <th>Aachen</th>\n      <td>60</td>\n      <td>30.000000</td>\n      <td>40</td>\n      <td>167</td>\n      <td>83.500000</td>\n      <td>90</td>\n    </tr>\n    <tr>\n      <th>Berlin</th>\n      <td>150</td>\n      <td>37.500000</td>\n      <td>40</td>\n      <td>324</td>\n      <td>81.000000</td>\n      <td>90</td>\n    </tr>\n    <tr>\n      <th>Frankfurt</th>\n      <td>30</td>\n      <td>30.000000</td>\n      <td>30</td>\n      <td>70</td>\n      <td>70.000000</td>\n      <td>70</td>\n    </tr>\n    <tr>\n      <th>Stuttgart</th>\n      <td>100</td>\n      <td>33.333333</td>\n      <td>40</td>\n      <td>232</td>\n      <td>77.333333</td>\n      <td>78</td>\n    </tr>\n  </tbody>\n</table>\n</div>"
     },
     "execution_count": 31,
     "metadata": {},
     "output_type": "execute_result"
    }
   ],
   "source": [
    "# Get the count of the rows of each group\n",
    "groups.size()\n",
    "\n",
    "# Aggregate functions\n",
    "mean_values = groups.mean(numeric_only=True)\n",
    "mean_values\n",
    "\n",
    "# do aggregation functions on each column spearately \n",
    "results = groups.agg(\n",
    "    {\n",
    "        'age': 'mean',\n",
    "        'score': 'sum'\n",
    "    }\n",
    ")\n",
    "\n",
    "results = groups['age'].agg(['sum', 'mean', 'max'])\n",
    "results = groups[['age', 'score']].agg(['sum', 'mean', 'max'])\n",
    "results"
   ],
   "metadata": {
    "collapsed": false,
    "ExecuteTime": {
     "end_time": "2023-11-24T07:58:10.463005900Z",
     "start_time": "2023-11-24T07:58:10.358140900Z"
    }
   },
   "id": "ee284528cc5f8a6f"
  },
  {
   "cell_type": "markdown",
   "source": [
    "# Date Time in Pandas"
   ],
   "metadata": {
    "collapsed": false
   },
   "id": "b163c051c9a930c2"
  },
  {
   "cell_type": "code",
   "execution_count": 42,
   "outputs": [
    {
     "name": "stdout",
     "output_type": "stream",
     "text": [
      "<class 'pandas.core.frame.DataFrame'>\n",
      "RangeIndex: 3 entries, 0 to 2\n",
      "Data columns (total 2 columns):\n",
      " #   Column  Non-Null Count  Dtype \n",
      "---  ------  --------------  ----- \n",
      " 0   date    3 non-null      object\n",
      " 1   score   3 non-null      int64 \n",
      "dtypes: int64(1), object(1)\n",
      "memory usage: 176.0+ bytes\n"
     ]
    },
    {
     "data": {
      "text/plain": "         date  score\n0  20/12/2023     30\n1  30/11/2023     35\n2  23/04/2021     21",
      "text/html": "<div>\n<style scoped>\n    .dataframe tbody tr th:only-of-type {\n        vertical-align: middle;\n    }\n\n    .dataframe tbody tr th {\n        vertical-align: top;\n    }\n\n    .dataframe thead th {\n        text-align: right;\n    }\n</style>\n<table border=\"1\" class=\"dataframe\">\n  <thead>\n    <tr style=\"text-align: right;\">\n      <th></th>\n      <th>date</th>\n      <th>score</th>\n    </tr>\n  </thead>\n  <tbody>\n    <tr>\n      <th>0</th>\n      <td>20/12/2023</td>\n      <td>30</td>\n    </tr>\n    <tr>\n      <th>1</th>\n      <td>30/11/2023</td>\n      <td>35</td>\n    </tr>\n    <tr>\n      <th>2</th>\n      <td>23/04/2021</td>\n      <td>21</td>\n    </tr>\n  </tbody>\n</table>\n</div>"
     },
     "execution_count": 42,
     "metadata": {},
     "output_type": "execute_result"
    }
   ],
   "source": [
    "# create a Dataframe\n",
    "\n",
    "df = pd.DataFrame(\n",
    "    {\n",
    "        'date': ['20/12/2023', '30/11/2023', '23/04/2021'],\n",
    "        'score': [30, 35, 21]\n",
    "    }\n",
    ")\n",
    "\n",
    "df.info()\n",
    "df"
   ],
   "metadata": {
    "collapsed": false,
    "ExecuteTime": {
     "end_time": "2023-11-24T08:12:34.205657300Z",
     "start_time": "2023-11-24T08:12:34.109275400Z"
    }
   },
   "id": "efc16415d5b9f3b1"
  },
  {
   "cell_type": "code",
   "execution_count": 43,
   "outputs": [
    {
     "name": "stdout",
     "output_type": "stream",
     "text": [
      "<class 'pandas.core.frame.DataFrame'>\n",
      "RangeIndex: 3 entries, 0 to 2\n",
      "Data columns (total 2 columns):\n",
      " #   Column  Non-Null Count  Dtype         \n",
      "---  ------  --------------  -----         \n",
      " 0   date    3 non-null      datetime64[ns]\n",
      " 1   score   3 non-null      int64         \n",
      "dtypes: datetime64[ns](1), int64(1)\n",
      "memory usage: 176.0 bytes\n"
     ]
    },
    {
     "name": "stderr",
     "output_type": "stream",
     "text": [
      "C:\\Users\\KaJur\\AppData\\Local\\Temp\\ipykernel_16040\\1239113148.py:2: UserWarning: Parsing dates in %d/%m/%Y format when dayfirst=False (the default) was specified. Pass `dayfirst=True` or specify a format to silence this warning.\n",
      "  df['date'] = pd.to_datetime(df['date'])\n"
     ]
    },
    {
     "data": {
      "text/plain": "        date  score\n0 2023-12-20     30\n1 2023-11-30     35\n2 2021-04-23     21",
      "text/html": "<div>\n<style scoped>\n    .dataframe tbody tr th:only-of-type {\n        vertical-align: middle;\n    }\n\n    .dataframe tbody tr th {\n        vertical-align: top;\n    }\n\n    .dataframe thead th {\n        text-align: right;\n    }\n</style>\n<table border=\"1\" class=\"dataframe\">\n  <thead>\n    <tr style=\"text-align: right;\">\n      <th></th>\n      <th>date</th>\n      <th>score</th>\n    </tr>\n  </thead>\n  <tbody>\n    <tr>\n      <th>0</th>\n      <td>2023-12-20</td>\n      <td>30</td>\n    </tr>\n    <tr>\n      <th>1</th>\n      <td>2023-11-30</td>\n      <td>35</td>\n    </tr>\n    <tr>\n      <th>2</th>\n      <td>2021-04-23</td>\n      <td>21</td>\n    </tr>\n  </tbody>\n</table>\n</div>"
     },
     "execution_count": 43,
     "metadata": {},
     "output_type": "execute_result"
    }
   ],
   "source": [
    "# convert the data column to date Type\n",
    "df['date'] = pd.to_datetime(df['date'])\n",
    "df.info()\n",
    "\n",
    "df"
   ],
   "metadata": {
    "collapsed": false,
    "ExecuteTime": {
     "end_time": "2023-11-24T08:12:35.178732500Z",
     "start_time": "2023-11-24T08:12:35.050694500Z"
    }
   },
   "id": "be46db6b69a30d0d"
  },
  {
   "cell_type": "code",
   "execution_count": 46,
   "outputs": [
    {
     "data": {
      "text/plain": "        date  score  year  month  day   day_name  day_of_the_week\n0 2023-12-20     30  2023     12   20  Wednesday                2\n1 2023-11-30     35  2023     11   30   Thursday                3\n2 2021-04-23     21  2021      4   23     Friday                4",
      "text/html": "<div>\n<style scoped>\n    .dataframe tbody tr th:only-of-type {\n        vertical-align: middle;\n    }\n\n    .dataframe tbody tr th {\n        vertical-align: top;\n    }\n\n    .dataframe thead th {\n        text-align: right;\n    }\n</style>\n<table border=\"1\" class=\"dataframe\">\n  <thead>\n    <tr style=\"text-align: right;\">\n      <th></th>\n      <th>date</th>\n      <th>score</th>\n      <th>year</th>\n      <th>month</th>\n      <th>day</th>\n      <th>day_name</th>\n      <th>day_of_the_week</th>\n    </tr>\n  </thead>\n  <tbody>\n    <tr>\n      <th>0</th>\n      <td>2023-12-20</td>\n      <td>30</td>\n      <td>2023</td>\n      <td>12</td>\n      <td>20</td>\n      <td>Wednesday</td>\n      <td>2</td>\n    </tr>\n    <tr>\n      <th>1</th>\n      <td>2023-11-30</td>\n      <td>35</td>\n      <td>2023</td>\n      <td>11</td>\n      <td>30</td>\n      <td>Thursday</td>\n      <td>3</td>\n    </tr>\n    <tr>\n      <th>2</th>\n      <td>2021-04-23</td>\n      <td>21</td>\n      <td>2021</td>\n      <td>4</td>\n      <td>23</td>\n      <td>Friday</td>\n      <td>4</td>\n    </tr>\n  </tbody>\n</table>\n</div>"
     },
     "execution_count": 46,
     "metadata": {},
     "output_type": "execute_result"
    }
   ],
   "source": [
    "# add a column to a Dataframe\n",
    "df['year'] = df['date'].dt.year\n",
    "df['month'] = df['date'].dt.month\n",
    "df['day'] = df['date'].dt.day\n",
    "df['day_name'] = df['date'].dt.day_name()\n",
    "df['day_of_the_week'] = df['date'].dt.day_of_week\n",
    "df"
   ],
   "metadata": {
    "collapsed": false,
    "ExecuteTime": {
     "end_time": "2023-11-24T08:13:36.925974300Z",
     "start_time": "2023-11-24T08:13:36.629765500Z"
    }
   },
   "id": "e0d9bdbc1fbb837f"
  },
  {
   "cell_type": "code",
   "execution_count": 49,
   "outputs": [
    {
     "data": {
      "text/plain": "        date  score  year  month  day   day_name  day_of_the_week day_name_DE\n0 2023-12-20     30  2023     12   20  Wednesday                2    Mittwoch\n1 2023-11-30     35  2023     11   30   Thursday                3  Donnerstag\n2 2021-04-23     21  2021      4   23     Friday                4     Freitag",
      "text/html": "<div>\n<style scoped>\n    .dataframe tbody tr th:only-of-type {\n        vertical-align: middle;\n    }\n\n    .dataframe tbody tr th {\n        vertical-align: top;\n    }\n\n    .dataframe thead th {\n        text-align: right;\n    }\n</style>\n<table border=\"1\" class=\"dataframe\">\n  <thead>\n    <tr style=\"text-align: right;\">\n      <th></th>\n      <th>date</th>\n      <th>score</th>\n      <th>year</th>\n      <th>month</th>\n      <th>day</th>\n      <th>day_name</th>\n      <th>day_of_the_week</th>\n      <th>day_name_DE</th>\n    </tr>\n  </thead>\n  <tbody>\n    <tr>\n      <th>0</th>\n      <td>2023-12-20</td>\n      <td>30</td>\n      <td>2023</td>\n      <td>12</td>\n      <td>20</td>\n      <td>Wednesday</td>\n      <td>2</td>\n      <td>Mittwoch</td>\n    </tr>\n    <tr>\n      <th>1</th>\n      <td>2023-11-30</td>\n      <td>35</td>\n      <td>2023</td>\n      <td>11</td>\n      <td>30</td>\n      <td>Thursday</td>\n      <td>3</td>\n      <td>Donnerstag</td>\n    </tr>\n    <tr>\n      <th>2</th>\n      <td>2021-04-23</td>\n      <td>21</td>\n      <td>2021</td>\n      <td>4</td>\n      <td>23</td>\n      <td>Friday</td>\n      <td>4</td>\n      <td>Freitag</td>\n    </tr>\n  </tbody>\n</table>\n</div>"
     },
     "execution_count": 49,
     "metadata": {},
     "output_type": "execute_result"
    }
   ],
   "source": [
    "# Map new data to Date Time\n",
    "date_mapping = {\n",
    "    0: 'Montag',\n",
    "    1: 'Dienstag',\n",
    "    2: 'Mittwoch',\n",
    "    3: 'Donnerstag',\n",
    "    4: 'Freitag',\n",
    "    5: 'Samstag',\n",
    "    6: 'Sonntag'\n",
    "}\n",
    "\n",
    "# map the values from pandas to my dictionary\n",
    "df['day_name_DE'] = df['date'].dt.day_of_week.map(date_mapping)\n",
    "\n",
    "# Alteranative\n",
    "df['day_name_DE'] = df['day_of_the_week'].map(date_mapping)\n",
    "df"
   ],
   "metadata": {
    "collapsed": false,
    "ExecuteTime": {
     "end_time": "2023-11-24T08:19:10.882882200Z",
     "start_time": "2023-11-24T08:19:10.622005300Z"
    }
   },
   "id": "293837eec3817479"
  },
  {
   "cell_type": "code",
   "execution_count": null,
   "outputs": [],
   "source": [],
   "metadata": {
    "collapsed": false
   },
   "id": "a1c77b22814ecc4d"
  }
 ],
 "metadata": {
  "kernelspec": {
   "display_name": "Python 3",
   "language": "python",
   "name": "python3"
  },
  "language_info": {
   "codemirror_mode": {
    "name": "ipython",
    "version": 2
   },
   "file_extension": ".py",
   "mimetype": "text/x-python",
   "name": "python",
   "nbconvert_exporter": "python",
   "pygments_lexer": "ipython2",
   "version": "2.7.6"
  }
 },
 "nbformat": 4,
 "nbformat_minor": 5
}
